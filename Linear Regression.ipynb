{
 "cells": [
  {
   "cell_type": "code",
   "execution_count": 1,
   "id": "95ac4405",
   "metadata": {},
   "outputs": [],
   "source": [
    "# Importing necessary libraries\n",
    "\n",
    "import pandas as pd\n",
    "import numpy as np\n",
    "from sklearn import datasets, linear_model\n",
    "from sklearn.metrics import mean_squared_error, r2_score\n",
    "import statsmodels.api as sm\n",
    "from sklearn.model_selection import train_test_split\n",
    "import matplotlib.pyplot as plt\n",
    "import seaborn as sns\n",
    "from scipy.stats import zscore\n",
    "%matplotlib inline"
   ]
  },
  {
   "cell_type": "code",
   "execution_count": 2,
   "id": "15a5e804",
   "metadata": {},
   "outputs": [
    {
     "data": {
      "text/html": [
       "<div>\n",
       "<style scoped>\n",
       "    .dataframe tbody tr th:only-of-type {\n",
       "        vertical-align: middle;\n",
       "    }\n",
       "\n",
       "    .dataframe tbody tr th {\n",
       "        vertical-align: top;\n",
       "    }\n",
       "\n",
       "    .dataframe thead th {\n",
       "        text-align: right;\n",
       "    }\n",
       "</style>\n",
       "<table border=\"1\" class=\"dataframe\">\n",
       "  <thead>\n",
       "    <tr style=\"text-align: right;\">\n",
       "      <th></th>\n",
       "      <th>Sr.No</th>\n",
       "      <th>Youtube</th>\n",
       "      <th>Facebook</th>\n",
       "      <th>Instagram</th>\n",
       "      <th>ExProfit</th>\n",
       "    </tr>\n",
       "  </thead>\n",
       "  <tbody>\n",
       "    <tr>\n",
       "      <th>0</th>\n",
       "      <td>1</td>\n",
       "      <td>230.1</td>\n",
       "      <td>37.8</td>\n",
       "      <td>69.2</td>\n",
       "      <td>22.1</td>\n",
       "    </tr>\n",
       "    <tr>\n",
       "      <th>1</th>\n",
       "      <td>2</td>\n",
       "      <td>44.5</td>\n",
       "      <td>39.3</td>\n",
       "      <td>45.1</td>\n",
       "      <td>10.4</td>\n",
       "    </tr>\n",
       "    <tr>\n",
       "      <th>2</th>\n",
       "      <td>3</td>\n",
       "      <td>17.2</td>\n",
       "      <td>45.9</td>\n",
       "      <td>69.3</td>\n",
       "      <td>9.3</td>\n",
       "    </tr>\n",
       "    <tr>\n",
       "      <th>3</th>\n",
       "      <td>4</td>\n",
       "      <td>151.5</td>\n",
       "      <td>41.3</td>\n",
       "      <td>58.5</td>\n",
       "      <td>18.5</td>\n",
       "    </tr>\n",
       "    <tr>\n",
       "      <th>4</th>\n",
       "      <td>5</td>\n",
       "      <td>180.8</td>\n",
       "      <td>10.8</td>\n",
       "      <td>58.4</td>\n",
       "      <td>12.9</td>\n",
       "    </tr>\n",
       "    <tr>\n",
       "      <th>...</th>\n",
       "      <td>...</td>\n",
       "      <td>...</td>\n",
       "      <td>...</td>\n",
       "      <td>...</td>\n",
       "      <td>...</td>\n",
       "    </tr>\n",
       "    <tr>\n",
       "      <th>195</th>\n",
       "      <td>196</td>\n",
       "      <td>38.2</td>\n",
       "      <td>3.7</td>\n",
       "      <td>13.8</td>\n",
       "      <td>7.6</td>\n",
       "    </tr>\n",
       "    <tr>\n",
       "      <th>196</th>\n",
       "      <td>197</td>\n",
       "      <td>94.2</td>\n",
       "      <td>4.9</td>\n",
       "      <td>8.1</td>\n",
       "      <td>9.7</td>\n",
       "    </tr>\n",
       "    <tr>\n",
       "      <th>197</th>\n",
       "      <td>198</td>\n",
       "      <td>177.0</td>\n",
       "      <td>9.3</td>\n",
       "      <td>6.4</td>\n",
       "      <td>12.8</td>\n",
       "    </tr>\n",
       "    <tr>\n",
       "      <th>198</th>\n",
       "      <td>199</td>\n",
       "      <td>283.6</td>\n",
       "      <td>42.0</td>\n",
       "      <td>66.2</td>\n",
       "      <td>25.5</td>\n",
       "    </tr>\n",
       "    <tr>\n",
       "      <th>199</th>\n",
       "      <td>200</td>\n",
       "      <td>232.1</td>\n",
       "      <td>8.6</td>\n",
       "      <td>8.7</td>\n",
       "      <td>13.4</td>\n",
       "    </tr>\n",
       "  </tbody>\n",
       "</table>\n",
       "<p>200 rows × 5 columns</p>\n",
       "</div>"
      ],
      "text/plain": [
       "     Sr.No  Youtube  Facebook  Instagram  ExProfit\n",
       "0        1    230.1      37.8       69.2      22.1\n",
       "1        2     44.5      39.3       45.1      10.4\n",
       "2        3     17.2      45.9       69.3       9.3\n",
       "3        4    151.5      41.3       58.5      18.5\n",
       "4        5    180.8      10.8       58.4      12.9\n",
       "..     ...      ...       ...        ...       ...\n",
       "195    196     38.2       3.7       13.8       7.6\n",
       "196    197     94.2       4.9        8.1       9.7\n",
       "197    198    177.0       9.3        6.4      12.8\n",
       "198    199    283.6      42.0       66.2      25.5\n",
       "199    200    232.1       8.6        8.7      13.4\n",
       "\n",
       "[200 rows x 5 columns]"
      ]
     },
     "execution_count": 2,
     "metadata": {},
     "output_type": "execute_result"
    }
   ],
   "source": [
    "# Importing the data and changing the column name\n",
    "df_amazon = pd.read_csv('Amazon.csv')\n",
    "df_amazon = df_amazon.rename(columns={\"Expected profit \": \"ExProfit\"})\n",
    "df_amazon"
   ]
  },
  {
   "cell_type": "code",
   "execution_count": 3,
   "id": "4f6eb486",
   "metadata": {},
   "outputs": [
    {
     "name": "stdout",
     "output_type": "stream",
     "text": [
      "<class 'pandas.core.frame.DataFrame'>\n",
      "RangeIndex: 200 entries, 0 to 199\n",
      "Data columns (total 5 columns):\n",
      " #   Column     Non-Null Count  Dtype  \n",
      "---  ------     --------------  -----  \n",
      " 0   Sr.No      200 non-null    int64  \n",
      " 1   Youtube    200 non-null    float64\n",
      " 2   Facebook   200 non-null    float64\n",
      " 3   Instagram  200 non-null    float64\n",
      " 4   ExProfit   200 non-null    float64\n",
      "dtypes: float64(4), int64(1)\n",
      "memory usage: 7.9 KB\n"
     ]
    }
   ],
   "source": [
    "df_amazon.info()                                    # Getting the info of the data frame"
   ]
  },
  {
   "cell_type": "code",
   "execution_count": 4,
   "id": "59096bdf",
   "metadata": {},
   "outputs": [],
   "source": [
    "df_amazon = df_amazon.drop(columns = 'Sr.No')       # Dropping the unrequired column"
   ]
  },
  {
   "cell_type": "code",
   "execution_count": 5,
   "id": "4df41f09",
   "metadata": {},
   "outputs": [
    {
     "data": {
      "text/plain": [
       "Youtube      0\n",
       "Facebook     0\n",
       "Instagram    0\n",
       "ExProfit     0\n",
       "dtype: int64"
      ]
     },
     "execution_count": 5,
     "metadata": {},
     "output_type": "execute_result"
    }
   ],
   "source": [
    "df_amazon.isnull().sum()                            # Check for nulll values "
   ]
  },
  {
   "cell_type": "code",
   "execution_count": 6,
   "id": "93609487",
   "metadata": {},
   "outputs": [
    {
     "data": {
      "text/html": [
       "<div>\n",
       "<style scoped>\n",
       "    .dataframe tbody tr th:only-of-type {\n",
       "        vertical-align: middle;\n",
       "    }\n",
       "\n",
       "    .dataframe tbody tr th {\n",
       "        vertical-align: top;\n",
       "    }\n",
       "\n",
       "    .dataframe thead th {\n",
       "        text-align: right;\n",
       "    }\n",
       "</style>\n",
       "<table border=\"1\" class=\"dataframe\">\n",
       "  <thead>\n",
       "    <tr style=\"text-align: right;\">\n",
       "      <th></th>\n",
       "      <th>const</th>\n",
       "      <th>Youtube</th>\n",
       "      <th>Facebook</th>\n",
       "      <th>Instagram</th>\n",
       "    </tr>\n",
       "  </thead>\n",
       "  <tbody>\n",
       "    <tr>\n",
       "      <th>0</th>\n",
       "      <td>1.0</td>\n",
       "      <td>230.1</td>\n",
       "      <td>37.8</td>\n",
       "      <td>69.2</td>\n",
       "    </tr>\n",
       "    <tr>\n",
       "      <th>1</th>\n",
       "      <td>1.0</td>\n",
       "      <td>44.5</td>\n",
       "      <td>39.3</td>\n",
       "      <td>45.1</td>\n",
       "    </tr>\n",
       "    <tr>\n",
       "      <th>2</th>\n",
       "      <td>1.0</td>\n",
       "      <td>17.2</td>\n",
       "      <td>45.9</td>\n",
       "      <td>69.3</td>\n",
       "    </tr>\n",
       "    <tr>\n",
       "      <th>3</th>\n",
       "      <td>1.0</td>\n",
       "      <td>151.5</td>\n",
       "      <td>41.3</td>\n",
       "      <td>58.5</td>\n",
       "    </tr>\n",
       "    <tr>\n",
       "      <th>4</th>\n",
       "      <td>1.0</td>\n",
       "      <td>180.8</td>\n",
       "      <td>10.8</td>\n",
       "      <td>58.4</td>\n",
       "    </tr>\n",
       "  </tbody>\n",
       "</table>\n",
       "</div>"
      ],
      "text/plain": [
       "   const  Youtube  Facebook  Instagram\n",
       "0    1.0    230.1      37.8       69.2\n",
       "1    1.0     44.5      39.3       45.1\n",
       "2    1.0     17.2      45.9       69.3\n",
       "3    1.0    151.5      41.3       58.5\n",
       "4    1.0    180.8      10.8       58.4"
      ]
     },
     "execution_count": 6,
     "metadata": {},
     "output_type": "execute_result"
    }
   ],
   "source": [
    "X = df_amazon.iloc[:,0:3]                          # Getting the independent variables\n",
    "X = sm.add_constant(X)                             # Adding the constant column \n",
    "X.head()"
   ]
  },
  {
   "cell_type": "code",
   "execution_count": 7,
   "id": "6f4c8fc6",
   "metadata": {},
   "outputs": [
    {
     "data": {
      "text/plain": [
       "0    22.1\n",
       "1    10.4\n",
       "2     9.3\n",
       "3    18.5\n",
       "4    12.9\n",
       "Name: ExProfit, dtype: float64"
      ]
     },
     "execution_count": 7,
     "metadata": {},
     "output_type": "execute_result"
    }
   ],
   "source": [
    "Y = df_amazon['ExProfit']                   # Getting the dependent variable\n",
    "Y.head()"
   ]
  },
  {
   "cell_type": "code",
   "execution_count": 8,
   "id": "663c86b3",
   "metadata": {},
   "outputs": [],
   "source": [
    "# Splitting the data into training and testing \n",
    "train_X, test_X, train_y, test_y = train_test_split( X ,Y,train_size = 0.8,random_state = 100)"
   ]
  },
  {
   "cell_type": "code",
   "execution_count": 9,
   "id": "40563a46",
   "metadata": {},
   "outputs": [],
   "source": [
    "df_amazon_lm = sm.OLS(train_y, train_X).fit()     # Fitting the OLS method onto the training data"
   ]
  },
  {
   "cell_type": "code",
   "execution_count": 10,
   "id": "ce8a66eb",
   "metadata": {},
   "outputs": [
    {
     "name": "stdout",
     "output_type": "stream",
     "text": [
      "const        2.817275\n",
      "Youtube      0.045586\n",
      "Facebook     0.185698\n",
      "Instagram    0.002233\n",
      "dtype: float64\n"
     ]
    }
   ],
   "source": [
    "print(df_amazon_lm.params)                        # Getting the parameters developed by the model"
   ]
  },
  {
   "cell_type": "code",
   "execution_count": 11,
   "id": "584f1e45",
   "metadata": {},
   "outputs": [
    {
     "name": "stdout",
     "output_type": "stream",
     "text": [
      "                            OLS Regression Results                            \n",
      "==============================================================================\n",
      "Dep. Variable:               ExProfit   R-squared:                       0.892\n",
      "Model:                            OLS   Adj. R-squared:                  0.889\n",
      "Method:                 Least Squares   F-statistic:                     427.4\n",
      "Date:                Wed, 29 Sep 2021   Prob (F-statistic):           5.38e-75\n",
      "Time:                        22:42:17   Log-Likelihood:                -316.74\n",
      "No. Observations:                 160   AIC:                             641.5\n",
      "Df Residuals:                     156   BIC:                             653.8\n",
      "Df Model:                           3                                         \n",
      "Covariance Type:            nonrobust                                         \n",
      "==============================================================================\n",
      "                 coef    std err          t      P>|t|      [0.025      0.975]\n",
      "------------------------------------------------------------------------------\n",
      "const          2.8173      0.357      7.881      0.000       2.111       3.523\n",
      "Youtube        0.0456      0.002     29.444      0.000       0.043       0.049\n",
      "Facebook       0.1857      0.010     18.012      0.000       0.165       0.206\n",
      "Instagram      0.0022      0.007      0.325      0.746      -0.011       0.016\n",
      "==============================================================================\n",
      "Omnibus:                       43.762   Durbin-Watson:                   1.911\n",
      "Prob(Omnibus):                  0.000   Jarque-Bera (JB):               91.253\n",
      "Skew:                          -1.220   Prob(JB):                     1.53e-20\n",
      "Kurtosis:                       5.781   Cond. No.                         445.\n",
      "==============================================================================\n",
      "\n",
      "Notes:\n",
      "[1] Standard Errors assume that the covariance matrix of the errors is correctly specified.\n"
     ]
    }
   ],
   "source": [
    "print(df_amazon_lm.summary())                     # Getting the summary of the built model"
   ]
  },
  {
   "cell_type": "markdown",
   "id": "93028b5f",
   "metadata": {},
   "source": [
    "# Summary Analysis\n",
    "### **The p-value for Instagram is more than 0.05 given we are considering 5% significane level and hence, we can conclude that Instagram mode of advertisement is not a good investment.** ###"
   ]
  },
  {
   "cell_type": "code",
   "execution_count": 12,
   "id": "34edb09f",
   "metadata": {},
   "outputs": [
    {
     "data": {
      "text/plain": [
       "<Figure size 576x432 with 0 Axes>"
      ]
     },
     "metadata": {},
     "output_type": "display_data"
    },
    {
     "data": {
      "image/png": "[encoded data removed]",
      "text/plain": [
       "<Figure size 432x288 with 1 Axes>"
      ]
     },
     "metadata": {
      "needs_background": "light"
     },
     "output_type": "display_data"
    }
   ],
   "source": [
    "# Getting the residuals of the model and building a Probability-Probability plot\n",
    "\n",
    "df_amazon_resid = df_amazon_lm.resid\n",
    "probplot = sm.ProbPlot( df_amazon_resid, fit = True )\n",
    "plt.figure( figsize = (8, 6))\n",
    "probplot.ppplot( line = '45')\n",
    "plt.title( \"Fig 1 - Normal P-P Plot of Regression Standardized Residuals\" ) # plots cummulative probability\n",
    "plt.show()6"
   ]
  },
  {
   "cell_type": "markdown",
   "id": "62b86b85",
   "metadata": {},
   "source": [
    "# P-P Plot analysis\n",
    "### The p-p pot shows a nearly linear relation between the residuals and hence, it is a satisfactory result. ###"
   ]
  },
  {
   "cell_type": "code",
   "execution_count": 13,
   "id": "53e70afe",
   "metadata": {},
   "outputs": [
    {
     "data": {
      "text/plain": [
       "Text(0.5, 1.0, 'Histogram for the Z-Score')"
      ]
     },
     "execution_count": 13,
     "metadata": {},
     "output_type": "execute_result"
    },
    {
     "data": {
      "image/png": "[encoded data removed]",
      "text/plain": [
       "<Figure size 360x360 with 1 Axes>"
      ]
     },
     "metadata": {
      "needs_background": "light"
     },
     "output_type": "display_data"
    }
   ],
   "source": [
    "# Calculating  the z-score and plotting the histogram for the calcultaed z-score\n",
    "\n",
    "df_amazon['z_score_profit'] = zscore(df_amazon['ExProfit'])\n",
    "fig, ax = plt.subplots(figsize = (5,5))\n",
    "ax.hist(df_amazon['z_score_profit'], color = 'green', bins = 10)\n",
    "ax.set_xlabel('Z-Score for Expected Profit')\n",
    "ax.set_ylabel('Frequency')\n",
    "ax.set_title('Histogram for the Z-Score')"
   ]
  },
  {
   "cell_type": "code",
   "execution_count": 14,
   "id": "2b51f164",
   "metadata": {},
   "outputs": [
    {
     "data": {
      "text/html": [
       "<div>\n",
       "<style scoped>\n",
       "    .dataframe tbody tr th:only-of-type {\n",
       "        vertical-align: middle;\n",
       "    }\n",
       "\n",
       "    .dataframe tbody tr th {\n",
       "        vertical-align: top;\n",
       "    }\n",
       "\n",
       "    .dataframe thead th {\n",
       "        text-align: right;\n",
       "    }\n",
       "</style>\n",
       "<table border=\"1\" class=\"dataframe\">\n",
       "  <thead>\n",
       "    <tr style=\"text-align: right;\">\n",
       "      <th></th>\n",
       "      <th>Youtube</th>\n",
       "      <th>Facebook</th>\n",
       "      <th>Instagram</th>\n",
       "      <th>ExProfit</th>\n",
       "      <th>z_score_profit</th>\n",
       "    </tr>\n",
       "  </thead>\n",
       "  <tbody>\n",
       "  </tbody>\n",
       "</table>\n",
       "</div>"
      ],
      "text/plain": [
       "Empty DataFrame\n",
       "Columns: [Youtube, Facebook, Instagram, ExProfit, z_score_profit]\n",
       "Index: []"
      ]
     },
     "execution_count": 14,
     "metadata": {},
     "output_type": "execute_result"
    }
   ],
   "source": [
    "# Checking the outliers\n",
    "df_amazon[(df_amazon.z_score_profit > 3.0) | (df_amazon.z_score_profit < -3.0)]"
   ]
  },
  {
   "cell_type": "code",
   "execution_count": 15,
   "id": "e01486a4",
   "metadata": {},
   "outputs": [],
   "source": [
    "# Making predictions for the testing data\n",
    "pred_y = df_amazon_lm.predict( test_X )"
   ]
  },
  {
   "cell_type": "code",
   "execution_count": 16,
   "id": "bc5397f8",
   "metadata": {},
   "outputs": [
    {
     "data": {
      "text/plain": [
       "1.316545776485108"
      ]
     },
     "execution_count": 16,
     "metadata": {},
     "output_type": "execute_result"
    }
   ],
   "source": [
    "# Calculating MSE for the test data\n",
    "np.sqrt(mean_squared_error(test_y, pred_y))"
   ]
  },
  {
   "cell_type": "markdown",
   "id": "4e419927",
   "metadata": {},
   "source": [
    "# Task B"
   ]
  },
  {
   "cell_type": "code",
   "execution_count": 17,
   "id": "8549c468",
   "metadata": {},
   "outputs": [],
   "source": [
    "# Importing the data\n",
    "df_remax = pd.read_csv('REMAX.csv')"
   ]
  },
  {
   "cell_type": "code",
   "execution_count": 18,
   "id": "c66879b4",
   "metadata": {},
   "outputs": [
    {
     "name": "stdout",
     "output_type": "stream",
     "text": [
      "<class 'pandas.core.frame.DataFrame'>\n",
      "RangeIndex: 545 entries, 0 to 544\n",
      "Data columns (total 13 columns):\n",
      " #   Column            Non-Null Count  Dtype \n",
      "---  ------            --------------  ----- \n",
      " 0   price             545 non-null    int64 \n",
      " 1   area              545 non-null    int64 \n",
      " 2   bedrooms          545 non-null    int64 \n",
      " 3   bathrooms         545 non-null    int64 \n",
      " 4   stories           545 non-null    int64 \n",
      " 5   mainroad          545 non-null    object\n",
      " 6   guestroom         545 non-null    object\n",
      " 7   basement          545 non-null    object\n",
      " 8   hotwaterheating   545 non-null    object\n",
      " 9   airconditioning   545 non-null    object\n",
      " 10  parking           545 non-null    int64 \n",
      " 11  prefarea          545 non-null    object\n",
      " 12  furnishingstatus  545 non-null    object\n",
      "dtypes: int64(6), object(7)\n",
      "memory usage: 55.5+ KB\n"
     ]
    }
   ],
   "source": [
    "df_remax.info()  # Getting the info of the data frame"
   ]
  },
  {
   "cell_type": "code",
   "execution_count": 19,
   "id": "083f156b",
   "metadata": {},
   "outputs": [
    {
     "data": {
      "text/html": [
       "<div>\n",
       "<style scoped>\n",
       "    .dataframe tbody tr th:only-of-type {\n",
       "        vertical-align: middle;\n",
       "    }\n",
       "\n",
       "    .dataframe tbody tr th {\n",
       "        vertical-align: top;\n",
       "    }\n",
       "\n",
       "    .dataframe thead th {\n",
       "        text-align: right;\n",
       "    }\n",
       "</style>\n",
       "<table border=\"1\" class=\"dataframe\">\n",
       "  <thead>\n",
       "    <tr style=\"text-align: right;\">\n",
       "      <th></th>\n",
       "      <th>price</th>\n",
       "      <th>area</th>\n",
       "      <th>bedrooms</th>\n",
       "      <th>bathrooms</th>\n",
       "      <th>stories</th>\n",
       "      <th>parking</th>\n",
       "    </tr>\n",
       "  </thead>\n",
       "  <tbody>\n",
       "    <tr>\n",
       "      <th>count</th>\n",
       "      <td>5.450000e+02</td>\n",
       "      <td>545.000000</td>\n",
       "      <td>545.000000</td>\n",
       "      <td>545.000000</td>\n",
       "      <td>545.000000</td>\n",
       "      <td>545.000000</td>\n",
       "    </tr>\n",
       "    <tr>\n",
       "      <th>mean</th>\n",
       "      <td>4.766729e+06</td>\n",
       "      <td>5150.541284</td>\n",
       "      <td>2.965138</td>\n",
       "      <td>1.286239</td>\n",
       "      <td>1.805505</td>\n",
       "      <td>0.693578</td>\n",
       "    </tr>\n",
       "    <tr>\n",
       "      <th>std</th>\n",
       "      <td>1.870440e+06</td>\n",
       "      <td>2170.141023</td>\n",
       "      <td>0.738064</td>\n",
       "      <td>0.502470</td>\n",
       "      <td>0.867492</td>\n",
       "      <td>0.861586</td>\n",
       "    </tr>\n",
       "    <tr>\n",
       "      <th>min</th>\n",
       "      <td>1.750000e+06</td>\n",
       "      <td>1650.000000</td>\n",
       "      <td>1.000000</td>\n",
       "      <td>1.000000</td>\n",
       "      <td>1.000000</td>\n",
       "      <td>0.000000</td>\n",
       "    </tr>\n",
       "    <tr>\n",
       "      <th>25%</th>\n",
       "      <td>3.430000e+06</td>\n",
       "      <td>3600.000000</td>\n",
       "      <td>2.000000</td>\n",
       "      <td>1.000000</td>\n",
       "      <td>1.000000</td>\n",
       "      <td>0.000000</td>\n",
       "    </tr>\n",
       "    <tr>\n",
       "      <th>50%</th>\n",
       "      <td>4.340000e+06</td>\n",
       "      <td>4600.000000</td>\n",
       "      <td>3.000000</td>\n",
       "      <td>1.000000</td>\n",
       "      <td>2.000000</td>\n",
       "      <td>0.000000</td>\n",
       "    </tr>\n",
       "    <tr>\n",
       "      <th>75%</th>\n",
       "      <td>5.740000e+06</td>\n",
       "      <td>6360.000000</td>\n",
       "      <td>3.000000</td>\n",
       "      <td>2.000000</td>\n",
       "      <td>2.000000</td>\n",
       "      <td>1.000000</td>\n",
       "    </tr>\n",
       "    <tr>\n",
       "      <th>max</th>\n",
       "      <td>1.330000e+07</td>\n",
       "      <td>16200.000000</td>\n",
       "      <td>6.000000</td>\n",
       "      <td>4.000000</td>\n",
       "      <td>4.000000</td>\n",
       "      <td>3.000000</td>\n",
       "    </tr>\n",
       "  </tbody>\n",
       "</table>\n",
       "</div>"
      ],
      "text/plain": [
       "              price          area    bedrooms   bathrooms     stories  \\\n",
       "count  5.450000e+02    545.000000  545.000000  545.000000  545.000000   \n",
       "mean   4.766729e+06   5150.541284    2.965138    1.286239    1.805505   \n",
       "std    1.870440e+06   2170.141023    0.738064    0.502470    0.867492   \n",
       "min    1.750000e+06   1650.000000    1.000000    1.000000    1.000000   \n",
       "25%    3.430000e+06   3600.000000    2.000000    1.000000    1.000000   \n",
       "50%    4.340000e+06   4600.000000    3.000000    1.000000    2.000000   \n",
       "75%    5.740000e+06   6360.000000    3.000000    2.000000    2.000000   \n",
       "max    1.330000e+07  16200.000000    6.000000    4.000000    4.000000   \n",
       "\n",
       "          parking  \n",
       "count  545.000000  \n",
       "mean     0.693578  \n",
       "std      0.861586  \n",
       "min      0.000000  \n",
       "25%      0.000000  \n",
       "50%      0.000000  \n",
       "75%      1.000000  \n",
       "max      3.000000  "
      ]
     },
     "execution_count": 19,
     "metadata": {},
     "output_type": "execute_result"
    }
   ],
   "source": [
    "df_remax.describe()       # Getting the statistical summary for the numerical features"
   ]
  },
  {
   "cell_type": "code",
   "execution_count": 20,
   "id": "919831bb",
   "metadata": {},
   "outputs": [
    {
     "data": {
      "text/plain": [
       "<AxesSubplot:>"
      ]
     },
     "execution_count": 20,
     "metadata": {},
     "output_type": "execute_result"
    },
    {
     "data": {
      "image/png": "[encoded data removed]",
      "text/plain": [
       "<Figure size 432x288 with 2 Axes>"
      ]
     },
     "metadata": {
      "needs_background": "light"
     },
     "output_type": "display_data"
    }
   ],
   "source": [
    "# Generating heatmap for the correlation\n",
    "corr = df_remax.corr()\n",
    "sns.heatmap(corr, annot = True)"
   ]
  },
  {
   "cell_type": "code",
   "execution_count": 21,
   "id": "8f680496",
   "metadata": {},
   "outputs": [],
   "source": [
    "# Seperating the dependent variables\n",
    "\n",
    "X_features = ['area', 'bedrooms', 'bathrooms', 'stories', 'mainroad',\n",
    "       'guestroom', 'basement', 'hotwaterheating', 'airconditioning',\n",
    "       'parking', 'prefarea', 'furnishingstatus']"
   ]
  },
  {
   "cell_type": "code",
   "execution_count": 22,
   "id": "2f61f0bb",
   "metadata": {},
   "outputs": [],
   "source": [
    "# Filtering out the varibales who needs dummy variables\n",
    "categorical_variables = ['mainroad', 'guestroom', 'basement', 'hotwaterheating', 'airconditioning', 'parking', \n",
    "                         'prefarea', 'furnishingstatus']"
   ]
  },
  {
   "cell_type": "code",
   "execution_count": 23,
   "id": "e8f53b8c",
   "metadata": {},
   "outputs": [],
   "source": [
    "# Encoding the above filtered varibales\n",
    "df_encoded = pd.get_dummies(df_remax[X_features],\n",
    "columns = categorical_variables,\n",
    "drop_first = True)"
   ]
  },
  {
   "cell_type": "code",
   "execution_count": 24,
   "id": "ae34ea13",
   "metadata": {},
   "outputs": [
    {
     "data": {
      "text/plain": [
       "Index(['area', 'bedrooms', 'bathrooms', 'stories', 'mainroad_yes',\n",
       "       'guestroom_yes', 'basement_yes', 'hotwaterheating_yes',\n",
       "       'airconditioning_yes', 'parking_1', 'parking_2', 'parking_3',\n",
       "       'prefarea_yes', 'furnishingstatus_semi-furnished',\n",
       "       'furnishingstatus_unfurnished'],\n",
       "      dtype='object')"
      ]
     },
     "execution_count": 24,
     "metadata": {},
     "output_type": "execute_result"
    }
   ],
   "source": [
    "# Getting the generated dummy varibales\n",
    "X_features = df_encoded.columns \n",
    "X_features"
   ]
  },
  {
   "cell_type": "code",
   "execution_count": 25,
   "id": "3f6017c2",
   "metadata": {},
   "outputs": [],
   "source": [
    "# Adding constant to the data frame and seperating the dependent variable\n",
    "X = sm.add_constant(df_encoded)\n",
    "Y = df_remax['price']"
   ]
  },
  {
   "cell_type": "code",
   "execution_count": 26,
   "id": "9dbb2184",
   "metadata": {},
   "outputs": [],
   "source": [
    "# Splitting the data into training and testing \n",
    "train_X, test_X, train_y, test_y = train_test_split( X ,Y,train_size = 0.8,random_state = 40 )"
   ]
  },
  {
   "cell_type": "code",
   "execution_count": 27,
   "id": "8a78142e",
   "metadata": {},
   "outputs": [
    {
     "name": "stdout",
     "output_type": "stream",
     "text": [
      "                            OLS Regression Results                            \n",
      "==============================================================================\n",
      "Dep. Variable:                  price   R-squared:                       0.694\n",
      "Model:                            OLS   Adj. R-squared:                  0.683\n",
      "Method:                 Least Squares   F-statistic:                     63.56\n",
      "Date:                Wed, 29 Sep 2021   Prob (F-statistic):           6.22e-98\n",
      "Time:                        22:42:17   Log-Likelihood:                -6642.9\n",
      "No. Observations:                 436   AIC:                         1.332e+04\n",
      "Df Residuals:                     420   BIC:                         1.338e+04\n",
      "Df Model:                          15                                         \n",
      "Covariance Type:            nonrobust                                         \n",
      "===================================================================================================\n",
      "                                      coef    std err          t      P>|t|      [0.025      0.975]\n",
      "---------------------------------------------------------------------------------------------------\n",
      "const                             1.67e+05   2.87e+05      0.581      0.562   -3.98e+05    7.32e+05\n",
      "area                              235.5449     25.711      9.161      0.000     185.006     286.084\n",
      "bedrooms                         7.207e+04      8e+04      0.901      0.368   -8.51e+04    2.29e+05\n",
      "bathrooms                        1.028e+06   1.12e+05      9.174      0.000    8.08e+05    1.25e+06\n",
      "stories                           4.27e+05   6.82e+04      6.263      0.000    2.93e+05    5.61e+05\n",
      "mainroad_yes                     3.566e+05   1.52e+05      2.342      0.020    5.73e+04    6.56e+05\n",
      "guestroom_yes                    3.734e+05   1.43e+05      2.602      0.010    9.14e+04    6.55e+05\n",
      "basement_yes                     3.255e+05    1.2e+05      2.717      0.007       9e+04    5.61e+05\n",
      "hotwaterheating_yes              8.744e+05    2.4e+05      3.643      0.000    4.03e+05    1.35e+06\n",
      "airconditioning_yes              8.613e+05   1.16e+05      7.398      0.000    6.32e+05    1.09e+06\n",
      "parking_1                        3.486e+05   1.26e+05      2.770      0.006    1.01e+05    5.96e+05\n",
      "parking_2                        7.047e+05   1.41e+05      4.993      0.000    4.27e+05    9.82e+05\n",
      "parking_3                       -3.139e+04   3.38e+05     -0.093      0.926   -6.95e+05    6.32e+05\n",
      "prefarea_yes                     5.169e+05   1.22e+05      4.226      0.000    2.76e+05    7.57e+05\n",
      "furnishingstatus_semi-furnished  7.901e+04   1.26e+05      0.625      0.532   -1.69e+05    3.28e+05\n",
      "furnishingstatus_unfurnished    -3.606e+05   1.38e+05     -2.613      0.009   -6.32e+05   -8.93e+04\n",
      "==============================================================================\n",
      "Omnibus:                       68.051   Durbin-Watson:                   2.005\n",
      "Prob(Omnibus):                  0.000   Jarque-Bera (JB):              164.773\n",
      "Skew:                           0.791   Prob(JB):                     1.66e-36\n",
      "Kurtosis:                       5.562   Cond. No.                     3.97e+04\n",
      "==============================================================================\n",
      "\n",
      "Notes:\n",
      "[1] Standard Errors assume that the covariance matrix of the errors is correctly specified.\n",
      "[2] The condition number is large, 3.97e+04. This might indicate that there are\n",
      "strong multicollinearity or other numerical problems.\n"
     ]
    }
   ],
   "source": [
    "# Fitting the OLS model on the training data\n",
    "remax_model_1 = sm.OLS(train_y,train_X).fit()\n",
    "print(remax_model_1.summary())"
   ]
  },
  {
   "cell_type": "code",
   "execution_count": 28,
   "id": "c62119f3",
   "metadata": {},
   "outputs": [],
   "source": [
    "# Detecting Multicollinearity Using Variance Inflation Factors\n",
    "from statsmodels.stats.outliers_influence import variance_inflation_factor\n",
    "def get_vif_factors(X):\n",
    "    X_matrix = X.to_numpy()\n",
    "    vif = [variance_inflation_factor(X_matrix,i) for i in range(X_matrix.shape[1])]\n",
    "    vif_factors = pd.DataFrame()\n",
    "    vif_factors['column'] = X.columns\n",
    "    vif_factors['vif'] = vif\n",
    "    return vif_factors"
   ]
  },
  {
   "cell_type": "code",
   "execution_count": 29,
   "id": "140541ee",
   "metadata": {},
   "outputs": [
    {
     "data": {
      "text/html": [
       "<div>\n",
       "<style scoped>\n",
       "    .dataframe tbody tr th:only-of-type {\n",
       "        vertical-align: middle;\n",
       "    }\n",
       "\n",
       "    .dataframe tbody tr th {\n",
       "        vertical-align: top;\n",
       "    }\n",
       "\n",
       "    .dataframe thead th {\n",
       "        text-align: right;\n",
       "    }\n",
       "</style>\n",
       "<table border=\"1\" class=\"dataframe\">\n",
       "  <thead>\n",
       "    <tr style=\"text-align: right;\">\n",
       "      <th></th>\n",
       "      <th>column</th>\n",
       "      <th>vif</th>\n",
       "    </tr>\n",
       "  </thead>\n",
       "  <tbody>\n",
       "    <tr>\n",
       "      <th>0</th>\n",
       "      <td>area</td>\n",
       "      <td>8.337548</td>\n",
       "    </tr>\n",
       "    <tr>\n",
       "      <th>1</th>\n",
       "      <td>bedrooms</td>\n",
       "      <td>16.659178</td>\n",
       "    </tr>\n",
       "    <tr>\n",
       "      <th>2</th>\n",
       "      <td>bathrooms</td>\n",
       "      <td>9.432415</td>\n",
       "    </tr>\n",
       "    <tr>\n",
       "      <th>3</th>\n",
       "      <td>stories</td>\n",
       "      <td>7.914612</td>\n",
       "    </tr>\n",
       "    <tr>\n",
       "      <th>4</th>\n",
       "      <td>mainroad_yes</td>\n",
       "      <td>6.899018</td>\n",
       "    </tr>\n",
       "    <tr>\n",
       "      <th>5</th>\n",
       "      <td>guestroom_yes</td>\n",
       "      <td>1.479920</td>\n",
       "    </tr>\n",
       "    <tr>\n",
       "      <th>6</th>\n",
       "      <td>basement_yes</td>\n",
       "      <td>2.023115</td>\n",
       "    </tr>\n",
       "    <tr>\n",
       "      <th>7</th>\n",
       "      <td>hotwaterheating_yes</td>\n",
       "      <td>1.101559</td>\n",
       "    </tr>\n",
       "    <tr>\n",
       "      <th>8</th>\n",
       "      <td>airconditioning_yes</td>\n",
       "      <td>1.773103</td>\n",
       "    </tr>\n",
       "    <tr>\n",
       "      <th>9</th>\n",
       "      <td>parking_1</td>\n",
       "      <td>1.529220</td>\n",
       "    </tr>\n",
       "    <tr>\n",
       "      <th>10</th>\n",
       "      <td>parking_2</td>\n",
       "      <td>1.587514</td>\n",
       "    </tr>\n",
       "    <tr>\n",
       "      <th>11</th>\n",
       "      <td>parking_3</td>\n",
       "      <td>1.090550</td>\n",
       "    </tr>\n",
       "    <tr>\n",
       "      <th>12</th>\n",
       "      <td>prefarea_yes</td>\n",
       "      <td>1.497947</td>\n",
       "    </tr>\n",
       "    <tr>\n",
       "      <th>13</th>\n",
       "      <td>furnishingstatus_semi-furnished</td>\n",
       "      <td>2.390389</td>\n",
       "    </tr>\n",
       "    <tr>\n",
       "      <th>14</th>\n",
       "      <td>furnishingstatus_unfurnished</td>\n",
       "      <td>2.009592</td>\n",
       "    </tr>\n",
       "  </tbody>\n",
       "</table>\n",
       "</div>"
      ],
      "text/plain": [
       "                             column        vif\n",
       "0                              area   8.337548\n",
       "1                          bedrooms  16.659178\n",
       "2                         bathrooms   9.432415\n",
       "3                           stories   7.914612\n",
       "4                      mainroad_yes   6.899018\n",
       "5                     guestroom_yes   1.479920\n",
       "6                      basement_yes   2.023115\n",
       "7               hotwaterheating_yes   1.101559\n",
       "8               airconditioning_yes   1.773103\n",
       "9                         parking_1   1.529220\n",
       "10                        parking_2   1.587514\n",
       "11                        parking_3   1.090550\n",
       "12                     prefarea_yes   1.497947\n",
       "13  furnishingstatus_semi-furnished   2.390389\n",
       "14     furnishingstatus_unfurnished   2.009592"
      ]
     },
     "execution_count": 29,
     "metadata": {},
     "output_type": "execute_result"
    }
   ],
   "source": [
    "# Displaying the VIF factors\n",
    "vif_factors = get_vif_factors(X[X_features])\n",
    "vif_factors"
   ]
  },
  {
   "cell_type": "code",
   "execution_count": 30,
   "id": "1dddf7da",
   "metadata": {},
   "outputs": [
    {
     "data": {
      "text/plain": [
       "0            area\n",
       "1        bedrooms\n",
       "2       bathrooms\n",
       "3         stories\n",
       "4    mainroad_yes\n",
       "Name: column, dtype: object"
      ]
     },
     "execution_count": 30,
     "metadata": {},
     "output_type": "execute_result"
    }
   ],
   "source": [
    "# Elementing the columns having VIF greater than 4\n",
    "columns_with_large_vif = vif_factors[vif_factors.vif > 4].column\n",
    "columns_with_large_vif"
   ]
  },
  {
   "cell_type": "code",
   "execution_count": 31,
   "id": "1bc2ec22",
   "metadata": {},
   "outputs": [],
   "source": [
    "# Defining a list having the columns to be removed\n",
    "columns_to_be_removed = ['area','bedrooms','bathrooms','stories','mainroad_yes']"
   ]
  },
  {
   "cell_type": "code",
   "execution_count": 32,
   "id": "d20c1f2a",
   "metadata": {},
   "outputs": [],
   "source": [
    "# Defining the new feature variable having removed the VIF values greater than 4\n",
    "X_new_features = list( set(X_features) - set(columns_to_be_removed))"
   ]
  },
  {
   "cell_type": "code",
   "execution_count": 33,
   "id": "05368501",
   "metadata": {},
   "outputs": [
    {
     "data": {
      "text/html": [
       "<div>\n",
       "<style scoped>\n",
       "    .dataframe tbody tr th:only-of-type {\n",
       "        vertical-align: middle;\n",
       "    }\n",
       "\n",
       "    .dataframe tbody tr th {\n",
       "        vertical-align: top;\n",
       "    }\n",
       "\n",
       "    .dataframe thead th {\n",
       "        text-align: right;\n",
       "    }\n",
       "</style>\n",
       "<table border=\"1\" class=\"dataframe\">\n",
       "  <thead>\n",
       "    <tr style=\"text-align: right;\">\n",
       "      <th></th>\n",
       "      <th>column</th>\n",
       "      <th>vif</th>\n",
       "    </tr>\n",
       "  </thead>\n",
       "  <tbody>\n",
       "    <tr>\n",
       "      <th>0</th>\n",
       "      <td>furnishingstatus_semi-furnished</td>\n",
       "      <td>1.468794</td>\n",
       "    </tr>\n",
       "    <tr>\n",
       "      <th>1</th>\n",
       "      <td>airconditioning_yes</td>\n",
       "      <td>1.460408</td>\n",
       "    </tr>\n",
       "    <tr>\n",
       "      <th>2</th>\n",
       "      <td>parking_2</td>\n",
       "      <td>1.351435</td>\n",
       "    </tr>\n",
       "    <tr>\n",
       "      <th>3</th>\n",
       "      <td>furnishingstatus_unfurnished</td>\n",
       "      <td>1.205410</td>\n",
       "    </tr>\n",
       "    <tr>\n",
       "      <th>4</th>\n",
       "      <td>prefarea_yes</td>\n",
       "      <td>1.383415</td>\n",
       "    </tr>\n",
       "    <tr>\n",
       "      <th>5</th>\n",
       "      <td>parking_1</td>\n",
       "      <td>1.308917</td>\n",
       "    </tr>\n",
       "    <tr>\n",
       "      <th>6</th>\n",
       "      <td>parking_3</td>\n",
       "      <td>1.028961</td>\n",
       "    </tr>\n",
       "    <tr>\n",
       "      <th>7</th>\n",
       "      <td>basement_yes</td>\n",
       "      <td>1.771693</td>\n",
       "    </tr>\n",
       "    <tr>\n",
       "      <th>8</th>\n",
       "      <td>hotwaterheating_yes</td>\n",
       "      <td>1.083479</td>\n",
       "    </tr>\n",
       "    <tr>\n",
       "      <th>9</th>\n",
       "      <td>guestroom_yes</td>\n",
       "      <td>1.450330</td>\n",
       "    </tr>\n",
       "  </tbody>\n",
       "</table>\n",
       "</div>"
      ],
      "text/plain": [
       "                            column       vif\n",
       "0  furnishingstatus_semi-furnished  1.468794\n",
       "1              airconditioning_yes  1.460408\n",
       "2                        parking_2  1.351435\n",
       "3     furnishingstatus_unfurnished  1.205410\n",
       "4                     prefarea_yes  1.383415\n",
       "5                        parking_1  1.308917\n",
       "6                        parking_3  1.028961\n",
       "7                     basement_yes  1.771693\n",
       "8              hotwaterheating_yes  1.083479\n",
       "9                    guestroom_yes  1.450330"
      ]
     },
     "execution_count": 33,
     "metadata": {},
     "output_type": "execute_result"
    }
   ],
   "source": [
    "get_vif_factors(X[X_new_features])"
   ]
  },
  {
   "cell_type": "code",
   "execution_count": 34,
   "id": "a8806ce5",
   "metadata": {},
   "outputs": [
    {
     "name": "stdout",
     "output_type": "stream",
     "text": [
      "                                 OLS Regression Results                                \n",
      "=======================================================================================\n",
      "Dep. Variable:                  price   R-squared (uncentered):                   0.853\n",
      "Model:                            OLS   Adj. R-squared (uncentered):              0.850\n",
      "Method:                 Least Squares   F-statistic:                              248.1\n",
      "Date:                Wed, 29 Sep 2021   Prob (F-statistic):                   1.07e-170\n",
      "Time:                        22:42:17   Log-Likelihood:                         -6930.4\n",
      "No. Observations:                 436   AIC:                                  1.388e+04\n",
      "Df Residuals:                     426   BIC:                                  1.392e+04\n",
      "Df Model:                          10                                                  \n",
      "Covariance Type:            nonrobust                                                  \n",
      "===================================================================================================\n",
      "                                      coef    std err          t      P>|t|      [0.025      0.975]\n",
      "---------------------------------------------------------------------------------------------------\n",
      "furnishingstatus_semi-furnished  2.305e+06   1.76e+05     13.118      0.000    1.96e+06    2.65e+06\n",
      "airconditioning_yes              2.404e+06   2.02e+05     11.879      0.000    2.01e+06     2.8e+06\n",
      "parking_2                          2.1e+06   2.49e+05      8.432      0.000    1.61e+06    2.59e+06\n",
      "furnishingstatus_unfurnished     2.082e+06   1.81e+05     11.519      0.000    1.73e+06    2.44e+06\n",
      "prefarea_yes                     1.462e+06   2.25e+05      6.500      0.000    1.02e+06     1.9e+06\n",
      "parking_1                        1.855e+06   2.23e+05      8.308      0.000    1.42e+06    2.29e+06\n",
      "parking_3                        2.205e+06    6.3e+05      3.501      0.001    9.67e+05    3.44e+06\n",
      "basement_yes                     8.451e+05   2.15e+05      3.938      0.000    4.23e+05    1.27e+06\n",
      "hotwaterheating_yes              1.904e+06   4.53e+05      4.206      0.000    1.01e+06    2.79e+06\n",
      "guestroom_yes                    1.176e+06    2.7e+05      4.363      0.000    6.46e+05    1.71e+06\n",
      "==============================================================================\n",
      "Omnibus:                       12.720   Durbin-Watson:                   1.767\n",
      "Prob(Omnibus):                  0.002   Jarque-Bera (JB):               15.942\n",
      "Skew:                           0.291   Prob(JB):                     0.000345\n",
      "Kurtosis:                       3.735   Cond. No.                         6.27\n",
      "==============================================================================\n",
      "\n",
      "Notes:\n",
      "[1] R² is computed without centering (uncentered) since the model does not contain a constant.\n",
      "[2] Standard Errors assume that the covariance matrix of the errors is correctly specified.\n"
     ]
    }
   ],
   "source": [
    "# Rebuilding the model for the new independent variables\n",
    "train_X = train_X[X_new_features]\n",
    "remax_model_2 = sm.OLS(train_y, train_X).fit()\n",
    "print(remax_model_2.summary())"
   ]
  },
  {
   "cell_type": "code",
   "execution_count": 35,
   "id": "231d4b92",
   "metadata": {},
   "outputs": [
    {
     "name": "stdout",
     "output_type": "stream",
     "text": [
      "                                 OLS Regression Results                                \n",
      "=======================================================================================\n",
      "Dep. Variable:                  price   R-squared (uncentered):                   0.853\n",
      "Model:                            OLS   Adj. R-squared (uncentered):              0.850\n",
      "Method:                 Least Squares   F-statistic:                              248.1\n",
      "Date:                Wed, 29 Sep 2021   Prob (F-statistic):                   1.07e-170\n",
      "Time:                        22:42:17   Log-Likelihood:                         -6930.4\n",
      "No. Observations:                 436   AIC:                                  1.388e+04\n",
      "Df Residuals:                     426   BIC:                                  1.392e+04\n",
      "Df Model:                          10                                                  \n",
      "Covariance Type:            nonrobust                                                  \n",
      "===================================================================================================\n",
      "                                      coef    std err          t      P>|t|      [0.025      0.975]\n",
      "---------------------------------------------------------------------------------------------------\n",
      "airconditioning_yes              2.404e+06   2.02e+05     11.879      0.000    2.01e+06     2.8e+06\n",
      "parking_2                          2.1e+06   2.49e+05      8.432      0.000    1.61e+06    2.59e+06\n",
      "hotwaterheating_yes              1.904e+06   4.53e+05      4.206      0.000    1.01e+06    2.79e+06\n",
      "guestroom_yes                    1.176e+06    2.7e+05      4.363      0.000    6.46e+05    1.71e+06\n",
      "basement_yes                     8.451e+05   2.15e+05      3.938      0.000    4.23e+05    1.27e+06\n",
      "furnishingstatus_unfurnished     2.082e+06   1.81e+05     11.519      0.000    1.73e+06    2.44e+06\n",
      "parking_1                        1.855e+06   2.23e+05      8.308      0.000    1.42e+06    2.29e+06\n",
      "furnishingstatus_semi-furnished  2.305e+06   1.76e+05     13.118      0.000    1.96e+06    2.65e+06\n",
      "parking_3                        2.205e+06    6.3e+05      3.501      0.001    9.67e+05    3.44e+06\n",
      "prefarea_yes                     1.462e+06   2.25e+05      6.500      0.000    1.02e+06     1.9e+06\n",
      "==============================================================================\n",
      "Omnibus:                       12.720   Durbin-Watson:                   1.767\n",
      "Prob(Omnibus):                  0.002   Jarque-Bera (JB):               15.942\n",
      "Skew:                           0.291   Prob(JB):                     0.000345\n",
      "Kurtosis:                       3.735   Cond. No.                         6.27\n",
      "==============================================================================\n",
      "\n",
      "Notes:\n",
      "[1] R² is computed without centering (uncentered) since the model does not contain a constant.\n",
      "[2] Standard Errors assume that the covariance matrix of the errors is correctly specified.\n"
     ]
    }
   ],
   "source": [
    "# Defining the significant varibales and rebuilding the final model\n",
    "significant_vars = ['airconditioning_yes','parking_2','hotwaterheating_yes','guestroom_yes','basement_yes',\n",
    "                    'furnishingstatus_unfurnished','parking_1','furnishingstatus_semi-furnished','parking_3',\n",
    "                    'prefarea_yes'\n",
    "                   ]\n",
    "train_X = train_X[significant_vars]\n",
    "remax_model_3 = sm.OLS(train_y, train_X).fit()\n",
    "print(remax_model_3.summary())"
   ]
  },
  {
   "cell_type": "markdown",
   "id": "556d3c9d",
   "metadata": {},
   "source": [
    "# Summary Analysis\n",
    "\n",
    "### 1. As we can see there are 10 significant variabels.\n",
    "### 2. The prices are influenced positively if there is an Air Conditioning, Guestroom, Hot water heating, Basement, Prefarea.\n",
    "### 3. The prices are also influenced on the number of parking spaces, and, the furnishing status (unfurnished and unfurnished only) "
   ]
  },
  {
   "cell_type": "markdown",
   "id": "54263181",
   "metadata": {},
   "source": [
    "# Task C"
   ]
  },
  {
   "cell_type": "code",
   "execution_count": 74,
   "id": "2db8bf4c",
   "metadata": {},
   "outputs": [],
   "source": [
    "# Importing the data and removing renaming the column as it has a space error\n",
    "df_rue = pd.read_excel (\"Inventory.xlsx\")\n",
    "df_rue = df_rue.rename(columns = {' Cost':'Cost'})"
   ]
  },
  {
   "cell_type": "code",
   "execution_count": 75,
   "id": "d589458b",
   "metadata": {},
   "outputs": [
    {
     "data": {
      "text/plain": [
       "<matplotlib.collections.PathCollection at 0x7fe8e1287190>"
      ]
     },
     "execution_count": 75,
     "metadata": {},
     "output_type": "execute_result"
    },
    {
     "data": {
      "image/png": "[encoded data removed]",
      "text/plain": [
       "<Figure size 432x288 with 1 Axes>"
      ]
     },
     "metadata": {
      "needs_background": "light"
     },
     "output_type": "display_data"
    }
   ],
   "source": [
    "# Developing the scatter plot\n",
    "plt.scatter(x = df_rue['Quantity'],y = df_rue['Cost'])"
   ]
  },
  {
   "cell_type": "code",
   "execution_count": 76,
   "id": "1f4d65b1",
   "metadata": {},
   "outputs": [
    {
     "data": {
      "text/plain": [
       "Cost        0\n",
       "Quantity    0\n",
       "dtype: int64"
      ]
     },
     "execution_count": 76,
     "metadata": {},
     "output_type": "execute_result"
    }
   ],
   "source": [
    "# Detecting the null values\n",
    "df_rue.isnull().sum()"
   ]
  },
  {
   "cell_type": "code",
   "execution_count": 77,
   "id": "dcee772a",
   "metadata": {},
   "outputs": [
    {
     "data": {
      "text/html": [
       "<div>\n",
       "<style scoped>\n",
       "    .dataframe tbody tr th:only-of-type {\n",
       "        vertical-align: middle;\n",
       "    }\n",
       "\n",
       "    .dataframe tbody tr th {\n",
       "        vertical-align: top;\n",
       "    }\n",
       "\n",
       "    .dataframe thead th {\n",
       "        text-align: right;\n",
       "    }\n",
       "</style>\n",
       "<table border=\"1\" class=\"dataframe\">\n",
       "  <thead>\n",
       "    <tr style=\"text-align: right;\">\n",
       "      <th></th>\n",
       "      <th>const</th>\n",
       "      <th>Quantity</th>\n",
       "    </tr>\n",
       "  </thead>\n",
       "  <tbody>\n",
       "    <tr>\n",
       "      <th>0</th>\n",
       "      <td>1.0</td>\n",
       "      <td>844</td>\n",
       "    </tr>\n",
       "    <tr>\n",
       "      <th>1</th>\n",
       "      <td>1.0</td>\n",
       "      <td>503</td>\n",
       "    </tr>\n",
       "    <tr>\n",
       "      <th>2</th>\n",
       "      <td>1.0</td>\n",
       "      <td>300</td>\n",
       "    </tr>\n",
       "    <tr>\n",
       "      <th>3</th>\n",
       "      <td>1.0</td>\n",
       "      <td>869</td>\n",
       "    </tr>\n",
       "    <tr>\n",
       "      <th>4</th>\n",
       "      <td>1.0</td>\n",
       "      <td>525</td>\n",
       "    </tr>\n",
       "  </tbody>\n",
       "</table>\n",
       "</div>"
      ],
      "text/plain": [
       "   const  Quantity\n",
       "0    1.0       844\n",
       "1    1.0       503\n",
       "2    1.0       300\n",
       "3    1.0       869\n",
       "4    1.0       525"
      ]
     },
     "execution_count": 77,
     "metadata": {},
     "output_type": "execute_result"
    }
   ],
   "source": [
    "# Adding the constant to the data\n",
    "X = sm.add_constant(df_rue['Quantity'])\n",
    "X.head()"
   ]
  },
  {
   "cell_type": "code",
   "execution_count": 78,
   "id": "1d5d9b71",
   "metadata": {},
   "outputs": [],
   "source": [
    "# Seperating the dependent variable\n",
    "Y = df_rue['Cost']"
   ]
  },
  {
   "cell_type": "code",
   "execution_count": 79,
   "id": "da5509e3",
   "metadata": {},
   "outputs": [],
   "source": [
    "# Splitting the training and testing data\n",
    "train_X, test_X, train_y, test_y = train_test_split( X ,Y,train_size = 0.8,random_state = 100 )"
   ]
  },
  {
   "cell_type": "code",
   "execution_count": 80,
   "id": "671008f8",
   "metadata": {},
   "outputs": [],
   "source": [
    "# Building the OLS model on the training data\n",
    "df_rue_lm = sm.OLS(train_y, train_X).fit()"
   ]
  },
  {
   "cell_type": "code",
   "execution_count": 81,
   "id": "91d6d685",
   "metadata": {},
   "outputs": [
    {
     "name": "stdout",
     "output_type": "stream",
     "text": [
      "const       55.651110\n",
      "Quantity     0.000612\n",
      "dtype: float64\n"
     ]
    }
   ],
   "source": [
    "# Displaying the parameters built from the model\n",
    "print(df_rue_lm.params)"
   ]
  },
  {
   "cell_type": "code",
   "execution_count": 82,
   "id": "1d6bf614",
   "metadata": {},
   "outputs": [
    {
     "name": "stdout",
     "output_type": "stream",
     "text": [
      "                            OLS Regression Results                            \n",
      "==============================================================================\n",
      "Dep. Variable:                   Cost   R-squared:                       0.002\n",
      "Model:                            OLS   Adj. R-squared:                 -0.036\n",
      "Method:                 Least Squares   F-statistic:                   0.05072\n",
      "Date:                Wed, 29 Sep 2021   Prob (F-statistic):              0.824\n",
      "Time:                        22:42:45   Log-Likelihood:                -81.644\n",
      "No. Observations:                  28   AIC:                             167.3\n",
      "Df Residuals:                      26   BIC:                             170.0\n",
      "Df Model:                           1                                         \n",
      "Covariance Type:            nonrobust                                         \n",
      "==============================================================================\n",
      "                 coef    std err          t      P>|t|      [0.025      0.975]\n",
      "------------------------------------------------------------------------------\n",
      "const         55.6511      1.990     27.962      0.000      51.560      59.742\n",
      "Quantity       0.0006      0.003      0.225      0.824      -0.005       0.006\n",
      "==============================================================================\n",
      "Omnibus:                        1.328   Durbin-Watson:                   2.112\n",
      "Prob(Omnibus):                  0.515   Jarque-Bera (JB):                1.045\n",
      "Skew:                          -0.228   Prob(JB):                        0.593\n",
      "Kurtosis:                       2.171   Cond. No.                     1.66e+03\n",
      "==============================================================================\n",
      "\n",
      "Notes:\n",
      "[1] Standard Errors assume that the covariance matrix of the errors is correctly specified.\n",
      "[2] The condition number is large, 1.66e+03. This might indicate that there are\n",
      "strong multicollinearity or other numerical problems.\n"
     ]
    }
   ],
   "source": [
    "# Displaying the summary analysis of the model built\n",
    "print(df_rue_lm.summary())"
   ]
  },
  {
   "cell_type": "code",
   "execution_count": 83,
   "id": "70ffdb69",
   "metadata": {},
   "outputs": [
    {
     "data": {
      "text/plain": [
       "<Figure size 576x432 with 0 Axes>"
      ]
     },
     "metadata": {},
     "output_type": "display_data"
    },
    {
     "data": {
      "image/png": "[encoded data removed]",
      "text/plain": [
       "<Figure size 432x288 with 1 Axes>"
      ]
     },
     "metadata": {
      "needs_background": "light"
     },
     "output_type": "display_data"
    }
   ],
   "source": [
    "# Getting the residuals of the model and building a Probability-Probability plot\n",
    "df_rue_resid = df_rue_lm.resid\n",
    "probplot = sm.ProbPlot( df_rue_resid, fit = True )\n",
    "plt.figure( figsize = (8, 6) )\n",
    "probplot.ppplot( line='45' )\n",
    "plt.title( \"Fig 1 - Normal P-P Plot of Regression Standardized Residuals\" ) # plots cummulative probability\n",
    "plt.show()"
   ]
  },
  {
   "cell_type": "code",
   "execution_count": 84,
   "id": "3c61fbe1",
   "metadata": {},
   "outputs": [],
   "source": [
    "from scipy.stats import zscore"
   ]
  },
  {
   "cell_type": "code",
   "execution_count": 85,
   "id": "4932cb6f",
   "metadata": {},
   "outputs": [],
   "source": [
    "# Calculating the z-score for the Cost variable\n",
    "df_rue['z_score_cost'] = zscore(df_rue.Cost)"
   ]
  },
  {
   "cell_type": "code",
   "execution_count": 86,
   "id": "8d2cf85e",
   "metadata": {},
   "outputs": [
    {
     "data": {
      "text/html": [
       "<div>\n",
       "<style scoped>\n",
       "    .dataframe tbody tr th:only-of-type {\n",
       "        vertical-align: middle;\n",
       "    }\n",
       "\n",
       "    .dataframe tbody tr th {\n",
       "        vertical-align: top;\n",
       "    }\n",
       "\n",
       "    .dataframe thead th {\n",
       "        text-align: right;\n",
       "    }\n",
       "</style>\n",
       "<table border=\"1\" class=\"dataframe\">\n",
       "  <thead>\n",
       "    <tr style=\"text-align: right;\">\n",
       "      <th></th>\n",
       "      <th>Cost</th>\n",
       "      <th>Quantity</th>\n",
       "      <th>z_score_cost</th>\n",
       "    </tr>\n",
       "  </thead>\n",
       "  <tbody>\n",
       "  </tbody>\n",
       "</table>\n",
       "</div>"
      ],
      "text/plain": [
       "Empty DataFrame\n",
       "Columns: [Cost, Quantity, z_score_cost]\n",
       "Index: []"
      ]
     },
     "execution_count": 86,
     "metadata": {},
     "output_type": "execute_result"
    }
   ],
   "source": [
    "# Detecting outliers\n",
    "df_rue[(df_rue.z_score_cost > 3.0) | (df_rue.z_score_cost < -3.0)]"
   ]
  },
  {
   "cell_type": "code",
   "execution_count": 87,
   "id": "b61c6dbd",
   "metadata": {},
   "outputs": [],
   "source": [
    "# Building the model on test data\n",
    "pred_y = df_rue_lm.predict(test_X)"
   ]
  },
  {
   "cell_type": "code",
   "execution_count": 88,
   "id": "5192ecc9",
   "metadata": {},
   "outputs": [
    {
     "data": {
      "text/plain": [
       "4.554073712565095"
      ]
     },
     "execution_count": 88,
     "metadata": {},
     "output_type": "execute_result"
    }
   ],
   "source": [
    "# Calculating MSE\n",
    "np.sqrt(mean_squared_error(test_y, pred_y))"
   ]
  },
  {
   "cell_type": "markdown",
   "id": "3af08f45",
   "metadata": {},
   "source": [
    "# Summary Analysis\n",
    "### 1. As we can see from the scatter plot, there is a non linear relationship between Quantity and Cost.\n",
    "### 2. Though the P-P plot shows a satisfactory result and the MSE is 4.55, the R-Sqaure value is 0.002 which tells us that only 0.2% of variance of the dependent variable i.e. Cost is explained by the independent variable i.e. Quantity and hence, linear regression is not a good model for prediction"
   ]
  }
 ],
 "metadata": {
  "kernelspec": {
   "display_name": "Python 3 (ipykernel)",
   "language": "python",
   "name": "python3"
  },
  "language_info": {
   "codemirror_mode": {
    "name": "ipython",
    "version": 3
   },
   "file_extension": ".py",
   "mimetype": "text/x-python",
   "name": "python",
   "nbconvert_exporter": "python",
   "pygments_lexer": "ipython3",
   "version": "3.9.7"
  }
 },
 "nbformat": 4,
 "nbformat_minor": 5
}
